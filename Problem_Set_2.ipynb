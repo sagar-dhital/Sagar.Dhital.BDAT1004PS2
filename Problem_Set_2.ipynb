{
  "nbformat": 4,
  "nbformat_minor": 0,
  "metadata": {
    "colab": {
      "provenance": []
    },
    "kernelspec": {
      "name": "python3",
      "display_name": "Python 3"
    },
    "language_info": {
      "name": "python"
    }
  },
  "cells": [
    {
      "cell_type": "code",
      "execution_count": null,
      "metadata": {
        "id": "C7DFnAkRiABF"
      },
      "outputs": [],
      "source": []
    },
    {
      "cell_type": "markdown",
      "source": [
        "#question1\n",
        "The b() function modifies a each time it's called.\n",
        "\n",
        "The first call to b() sets a = 2.\n",
        "The second call to b() updates a to 4.\n",
        "The third call to b() updates a to 6. Thus, after three calls to b(), a will display 6."
      ],
      "metadata": {
        "id": "UjqzdA8hrI7H"
      }
    },
    {
      "cell_type": "code",
      "source": [
        "# question2\n",
        "def fileLength(filename):\n",
        "    try:\n",
        "        infile = open(filename)\n",
        "        content = infile.read()\n",
        "        infile.close()\n",
        "        return len(content)\n",
        "    except FileNotFoundError:\n",
        "        print(f\"File {filename} not found.\")\n"
      ],
      "metadata": {
        "id": "kmnaC9FprJf8"
      },
      "execution_count": null,
      "outputs": []
    },
    {
      "cell_type": "code",
      "source": [
        "# Question3\n",
        "class Marsupial:\n",
        "    def __init__(self):\n",
        "        self.pouch = []\n",
        "\n",
        "    def put_in_pouch(self, item):\n",
        "        self.pouch.append(item)\n",
        "\n",
        "    def pouch_contents(self):\n",
        "        return self.pouch\n",
        "\n",
        "class Kangaroo(Marsupial):\n",
        "    def __init__(self, x=0, y=0):\n",
        "        super().__init__()\n",
        "        self.x = x\n",
        "        self.y = y\n",
        "\n",
        "    def jump(self, dx, dy):\n",
        "        self.x += dx\n",
        "        self.y += dy\n",
        "\n",
        "    def __str__(self):\n",
        "        return f\"I am a Kangaroo located at coordinates ({self.x},{self.y})\"\n"
      ],
      "metadata": {
        "id": "nTKbUU4Ai17D"
      },
      "execution_count": null,
      "outputs": []
    },
    {
      "cell_type": "code",
      "source": [
        "# question4\n",
        "def collatz(x):\n",
        "    print(x)\n",
        "    if x == 1:\n",
        "        return\n",
        "    elif x % 2 == 0:\n",
        "        collatz(x // 2)\n",
        "    else:\n",
        "        collatz(3 * x + 1)\n"
      ],
      "metadata": {
        "id": "PpKrkF_mty0k"
      },
      "execution_count": null,
      "outputs": []
    },
    {
      "cell_type": "code",
      "source": [
        "# question5\n",
        "\n",
        "def binary(n):\n",
        "    if n == 0:\n",
        "        print(0, end=\"\")\n",
        "    elif n > 0:\n",
        "        binary(n // 2)\n",
        "        print(n % 2, end=\"\")\n"
      ],
      "metadata": {
        "id": "Wbks-acVt5JI"
      },
      "execution_count": null,
      "outputs": []
    },
    {
      "cell_type": "code",
      "source": [
        "# Question6\n",
        "from html.parser import HTMLParser\n",
        "\n",
        "class HeadingParser(HTMLParser):\n",
        "    def __init__(self):\n",
        "        super().__init__()\n",
        "        self.current_level = 0\n",
        "\n",
        "    def handle_starttag(self, tag, attrs):\n",
        "        if tag.startswith(\"h\") and tag[1:].isdigit():\n",
        "            self.current_level = int(tag[1])\n",
        "\n",
        "    def handle_endtag(self, tag):\n",
        "        if tag.startswith(\"h\") and tag[1:].isdigit():\n",
        "            self.current_level = 0\n",
        "\n",
        "    def handle_data(self, data):\n",
        "        if self.current_level > 0:\n",
        "            print(\" \" * (self.current_level - 1) + data)\n",
        "\n",
        "# Testing with w3c.html content\n",
        "content = \"\"\"\n",
        "<!DOCTYPE html>\n",
        "<html lang=\"en\">\n",
        "<head>\n",
        "    <meta name=\"description\" content=\"Webpage description goes here\" />\n",
        "    <meta charset=\"utf-8\">\n",
        "    <title>Change_me</title>\n",
        "</head>\n",
        "<body>\n",
        "    <h1>W3C Mission</h1>\n",
        "    <h2>Principles</h2>\n",
        "</body>\n",
        "</html>\n",
        "\"\"\"\n",
        "parser = HeadingParser()\n",
        "parser.feed(content)\n"
      ],
      "metadata": {
        "id": "ssX1vcFxuAkt"
      },
      "execution_count": null,
      "outputs": []
    },
    {
      "cell_type": "code",
      "source": [
        "# question7\n",
        "\n",
        "import requests\n",
        "from bs4 import BeautifulSoup\n",
        "\n",
        "def webdir(url, depth, indent):\n",
        "    if depth < 0:\n",
        "        return\n",
        "    print(\" \" * indent + url)\n",
        "    try:\n",
        "        response = requests.get(url)\n",
        "        if response.status_code == 200:\n",
        "            soup = BeautifulSoup(response.text, 'html.parser')\n",
        "            for link in soup.find_all('a', href=True):\n",
        "                webdir(link['href'], depth - 1, indent + 2)\n",
        "    except:\n",
        "        pass\n"
      ],
      "metadata": {
        "id": "Ib6Ky5FruWQX"
      },
      "execution_count": null,
      "outputs": []
    },
    {
      "cell_type": "code",
      "source": [
        "# Question8\n",
        "\n",
        "-- (a) All temperature data\n",
        "SELECT Temperature FROM Weather;\n",
        "\n",
        "-- (b) All unique cities\n",
        "SELECT DISTINCT City FROM Weather;\n",
        "\n",
        "-- (c) All records for India\n",
        "SELECT * FROM Weather WHERE Country = 'India';\n",
        "\n",
        "-- (d) All records for Fall season\n",
        "SELECT * FROM Weather WHERE Season = 'Fall';\n",
        "\n",
        "-- (e) Cities with average rainfall between 200 and 400 mm\n",
        "SELECT City, Country, Season FROM Weather WHERE Rainfall BETWEEN 200 AND 400;\n",
        "\n",
        "-- (f) Cities with average Fall temperature above 20 degrees\n",
        "SELECT City, Country FROM Weather WHERE Season = 'Fall' AND Temperature > 20 ORDER BY Temperature ASC;\n",
        "\n",
        "-- (g) Total annual rainfall for Cairo\n",
        "SELECT SUM(Rainfall) FROM Weather WHERE City = 'Cairo';\n",
        "\n",
        "-- (h) Total rainfall for each season\n",
        "SELECT Season, SUM(Rainfall) FROM Weather GROUP BY Season;\n"
      ],
      "metadata": {
        "id": "2H20wH-GukXR"
      },
      "execution_count": null,
      "outputs": []
    },
    {
      "cell_type": "code",
      "source": [
        "# Question9\n",
        "\n",
        "words = ['The', 'quick', 'brown', 'fox', 'jumps', 'over', 'the', 'lazy', 'dog']\n",
        "\n",
        "# (a) Uppercase words\n",
        "uppercase_words = [word.upper() for word in words]\n",
        "\n",
        "# (b) Lowercase words\n",
        "lowercase_words = [word.lower() for word in words]\n",
        "\n",
        "# (c) Lengths of words\n",
        "word_lengths = [len(word) for word in words]\n",
        "\n",
        "# (d) Uppercase, lowercase, and length of each word\n",
        "word_info = [[word.upper(), word.lower(), len(word)] for word in words]\n",
        "\n",
        "# (e) Words with 4 or more characters\n",
        "long_words = [word for word in words if len(word) >= 4]\n"
      ],
      "metadata": {
        "id": "a5zm2Fl6uu7s"
      },
      "execution_count": null,
      "outputs": []
    }
  ]
}